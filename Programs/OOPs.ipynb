{
 "cells": [
  {
   "cell_type": "code",
   "execution_count": 1,
   "metadata": {},
   "outputs": [],
   "source": [
    "# POP (Procedural oriented programming) - example: Functions, \n",
    "# Pros- easy to implement, re-use the same code, easy to track, less memory\n",
    "# Cons - Data will be exposed i.e. no security, It is difficult to achieve real world scenario, difficult to create new data type."
   ]
  },
  {
   "cell_type": "code",
   "execution_count": null,
   "metadata": {},
   "outputs": [],
   "source": [
    "# OOPS (Object oriented programming)\n",
    "# Four pillars of oops - Encapsulation, inheritance, abstraction, polymorphism\n",
    "# It is a way odeveloping program\n",
    "# Creating classes and objects where we define data and functions "
   ]
  }
 ],
 "metadata": {
  "kernelspec": {
   "display_name": "Python 3",
   "language": "python",
   "name": "python3"
  },
  "language_info": {
   "codemirror_mode": {
    "name": "ipython",
    "version": 3
   },
   "file_extension": ".py",
   "mimetype": "text/x-python",
   "name": "python",
   "nbconvert_exporter": "python",
   "pygments_lexer": "ipython3",
   "version": "3.11.1 (tags/v3.11.1:a7a450f, Dec  6 2022, 19:58:39) [MSC v.1934 64 bit (AMD64)]"
  },
  "orig_nbformat": 4,
  "vscode": {
   "interpreter": {
    "hash": "0c1f23ac049957226e7b345e10847a716b305f01fb5ea588599021a8042b7bd0"
   }
  }
 },
 "nbformat": 4,
 "nbformat_minor": 2
}
