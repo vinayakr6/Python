{
 "cells": [
  {
   "attachments": {},
   "cell_type": "markdown",
   "metadata": {},
   "source": [
    "##### 1. Add two numbers provided by user input and define a function to add these numbers "
   ]
  },
  {
   "cell_type": "code",
   "execution_count": null,
   "metadata": {},
   "outputs": [],
   "source": [
    "def add_2_numbers():\n",
    "    num1 = float(input(\"Enter the first number: \"))\n",
    "    num2 = float(input(\"Enter the sedcond number: \"))\n",
    "    sum = num1 + num2 \n",
    "    return print(f\"The sum of {num1} and {num2} is {sum}\")\n",
    "\n",
    "add_2_numbers()"
   ]
  },
  {
   "attachments": {},
   "cell_type": "markdown",
   "metadata": {},
   "source": [
    "##### 2. Maximum of two numbers using lambda function"
   ]
  },
  {
   "cell_type": "code",
   "execution_count": null,
   "metadata": {},
   "outputs": [],
   "source": [
    "def Max_2_numbers():\n",
    "    num1 = float(input(\"Enter the first number: \"))\n",
    "    num2 = float(input(\"Enter the sedcond number: \"))\n",
    "    maximum = lambda num1,num2:num1 if num1 > num2 else num2\n",
    "    print(f'Maximum of {num1} and {num2} is {maximum(num1,num2)}')\n",
    "\n",
    "Max_2_numbers()"
   ]
  }
 ],
 "metadata": {
  "language_info": {
   "name": "python"
  },
  "orig_nbformat": 4
 },
 "nbformat": 4,
 "nbformat_minor": 2
}
