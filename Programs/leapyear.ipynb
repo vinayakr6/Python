{
 "cells": [
  {
   "cell_type": "code",
   "execution_count": 2,
   "metadata": {},
   "outputs": [
    {
     "name": "stdout",
     "output_type": "stream",
     "text": [
      "2100 is not leap year\n"
     ]
    }
   ],
   "source": [
    "# Program to find the given year is a leap year or not.\n",
    "\n",
    "year = int(input(\"Enter the year you want to check: \"))\n",
    "\n",
    "if year % 4 == 0:\n",
    "    if year % 100 == 0:\n",
    "        if year % 400 == 0:\n",
    "            print(\"{0} is leap year\".format(year))\n",
    "        else:\n",
    "            print(\"{0} is not leap year\".format(year))\n",
    "    else:\n",
    "        print(\"{0} is leap year\".format(year))\n",
    "else:\n",
    "    print(\"{0} is not leap year\".format(year))"
   ]
  },
  {
   "cell_type": "code",
   "execution_count": 3,
   "metadata": {},
   "outputs": [
    {
     "name": "stdout",
     "output_type": "stream",
     "text": [
      "2012 is leap year\n"
     ]
    }
   ],
   "source": [
    "year = int(input(\"Enter the year you want to check: \"))\n",
    "\n",
    "if year % 4 == 0:\n",
    "    if year % 100 == 0:\n",
    "        if year % 400 == 0:\n",
    "            print(\"{0} is leap year\".format(year))\n",
    "        else:\n",
    "            print(\"{0} is not leap year\".format(year))\n",
    "    else:\n",
    "        print(\"{0} is leap year\".format(year))\n",
    "else:\n",
    "    print(\"{0} is not leap year\".format(year))"
   ]
  }
 ],
 "metadata": {
  "kernelspec": {
   "display_name": "Python 3.10.6 ('untitled')",
   "language": "python",
   "name": "python3"
  },
  "language_info": {
   "codemirror_mode": {
    "name": "ipython",
    "version": 3
   },
   "file_extension": ".py",
   "mimetype": "text/x-python",
   "name": "python",
   "nbconvert_exporter": "python",
   "pygments_lexer": "ipython3",
   "version": "3.10.6"
  },
  "orig_nbformat": 4,
  "vscode": {
   "interpreter": {
    "hash": "f6aec718e633dd92caebf8cb032716a556e0446a4c483a7b5937a47be1e89ae0"
   }
  }
 },
 "nbformat": 4,
 "nbformat_minor": 2
}
